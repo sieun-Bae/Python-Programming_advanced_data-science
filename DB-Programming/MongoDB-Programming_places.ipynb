{
 "cells": [
  {
   "cell_type": "markdown",
   "metadata": {},
   "source": [
    "## Real world - Using geomatric coordinates"
   ]
  },
  {
   "cell_type": "code",
   "execution_count": null,
   "metadata": {},
   "outputs": [],
   "source": [
    "from bson.son import SON #binary json\n",
    "from datetime import datetime\n",
    "from pprint import pprint\n",
    "import pymongo\n",
    "from pymongo import MongoClient, InsertOne, DeleteOne, DeleteMany, ReplaceOne, UpdateOne, GEO2D\n",
    "from pymongo.errors import BulkWriteError"
   ]
  },
  {
   "cell_type": "code",
   "execution_count": 2,
   "metadata": {},
   "outputs": [],
   "source": [
    "client = MongoClient('localhost', 27017) #connect"
   ]
  },
  {
   "cell_type": "code",
   "execution_count": 3,
   "metadata": {},
   "outputs": [
    {
     "data": {
      "text/plain": [
       "['admin', 'config', 'geo_example', 'local', 'test']"
      ]
     },
     "execution_count": 3,
     "metadata": {},
     "output_type": "execute_result"
    }
   ],
   "source": [
    "client.list_database_names()"
   ]
  },
  {
   "cell_type": "code",
   "execution_count": 4,
   "metadata": {},
   "outputs": [
    {
     "data": {
      "text/plain": [
       "'loc_2d'"
      ]
     },
     "execution_count": 4,
     "metadata": {},
     "output_type": "execute_result"
    }
   ],
   "source": [
    "db = MongoClient()['geo_example']\n",
    "db['places'].create_index([('loc',GEO2D)])"
   ]
  },
  {
   "cell_type": "code",
   "execution_count": 5,
   "metadata": {},
   "outputs": [],
   "source": [
    "results = db.places.insert_many([\n",
    "    {'loc': [2, 5]},\n",
    "    {'loc' : [30, 5]},\n",
    "    {'loc' : [1, 2]},\n",
    "    {'loc' : [4, 5]}\n",
    "])"
   ]
  },
  {
   "cell_type": "code",
   "execution_count": 6,
   "metadata": {},
   "outputs": [],
   "source": [
    "docs = db.places.find({'loc':{'$near':[3,6]}}).limit(3)"
   ]
  },
  {
   "cell_type": "code",
   "execution_count": 7,
   "metadata": {},
   "outputs": [
    {
     "name": "stdout",
     "output_type": "stream",
     "text": [
      "{'_id': ObjectId('5ce4b70b077aa9b467662bb7'), 'loc': [2, 5]}\n",
      "{'_id': ObjectId('5ce4c6b2b7ea503044c3a7b7'), 'loc': [2, 5]}\n",
      "{'_id': ObjectId('5ce4b70b077aa9b467662bba'), 'loc': [4, 5]}\n"
     ]
    }
   ],
   "source": [
    "for doc in docs:\n",
    "    pprint(doc)"
   ]
  },
  {
   "cell_type": "code",
   "execution_count": null,
   "metadata": {},
   "outputs": [],
   "source": []
  }
 ],
 "metadata": {
  "kernelspec": {
   "display_name": "Python 3",
   "language": "python",
   "name": "python3"
  },
  "language_info": {
   "codemirror_mode": {
    "name": "ipython",
    "version": 3
   },
   "file_extension": ".py",
   "mimetype": "text/x-python",
   "name": "python",
   "nbconvert_exporter": "python",
   "pygments_lexer": "ipython3",
   "version": "3.7.2"
  }
 },
 "nbformat": 4,
 "nbformat_minor": 2
}
